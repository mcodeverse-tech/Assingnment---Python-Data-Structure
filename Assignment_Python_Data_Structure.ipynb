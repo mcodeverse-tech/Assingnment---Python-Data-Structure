{
  "nbformat": 4,
  "nbformat_minor": 0,
  "metadata": {
    "colab": {
      "provenance": []
    },
    "kernelspec": {
      "name": "python3",
      "display_name": "Python 3"
    },
    "language_info": {
      "name": "python"
    }
  },
  "cells": [
    {
      "cell_type": "markdown",
      "source": [
        "# Assignment : Python - Data Structure"
      ],
      "metadata": {
        "id": "1iK453YF7UMM"
      }
    },
    {
      "cell_type": "markdown",
      "source": [
        "# **Theory Questions**"
      ],
      "metadata": {
        "id": "yq7zUVRDGuoO"
      }
    },
    {
      "cell_type": "markdown",
      "source": [
        "# **1 What are data structures, and why are they important?**\n",
        "\n",
        "A data structure is a way of organizing, storing, and managing data in a computer so it can be used efficiently.\n"
      ],
      "metadata": {
        "id": "H1pH5Auk7UUh"
      }
    },
    {
      "cell_type": "markdown",
      "source": [
        "# **2 Explain the difference between mutable and immutable data types with examples?**\n",
        "- Mutable data types → Can be changed after creation (you can modify, add, or remove elements without creating a new object).\n",
        "- Immutable data types → Cannot be changed after creation (any “change” creates a new object in memory).\n"
      ],
      "metadata": {
        "id": "4etcX31Z7UXa"
      }
    },
    {
      "cell_type": "markdown",
      "source": [
        "# **3 What are the main differences between lists and tuples in Python ?**\n",
        "\n",
        "\n",
        "In Python, both lists and tuples are sequence data types that allow you to store collections of items, but they differ in several important ways. The most significant difference is that lists are mutable, meaning their contents can be changed after creation—you can add, remove, or modify elements. Tuples, on the other hand, are immutable, which means once they are created, their elements cannot be altered\n"
      ],
      "metadata": {
        "id": "WVJ61BBR9P4S"
      }
    },
    {
      "cell_type": "markdown",
      "source": [
        "# **4 Describe how dictionaries store data ?**\n",
        " In Python, a dictionary stores data in the form of key–value pairs, where each unique key maps directly to a value. You can think of it like a real-world dictionary: the word is the key, and the definition is the value\n"
      ],
      "metadata": {
        "id": "mdb9ZRXu9iQa"
      }
    },
    {
      "cell_type": "markdown",
      "source": [
        "**# 5 Why might you use a set instead of a list in Python ?**\n",
        "Both sets and lists in Python are used to store collections of items, but they serve different purposes. You might choose a set over a list in situations where uniqueness and fast membership checks are more important than order or duplicates.\n"
      ],
      "metadata": {
        "id": "FVVuH4V59iTK"
      }
    },
    {
      "cell_type": "markdown",
      "source": [
        "#**6 What is a string in Python, and how is it different from a list ?**\n",
        "\n",
        "A string in Python is a sequence of characters enclosed within single quotes ('...'), double quotes (\"...\"), or triple quotes ('''...''' or \"\"\"...\"\"\"). Strings are used to represent text, such as words, sentences, or symbols.\n",
        "- Strings are immutable → once created, you cannot change their contents directly. Any modification creates a new string.\n",
        "- Lists are mutable → you can add, remove, or modify elements in place.\n",
        "\n"
      ],
      "metadata": {
        "id": "4KM69vhF9iVo"
      }
    },
    {
      "cell_type": "markdown",
      "source": [
        "# **7  How do tuples ensure data integrity in Python ?**\n",
        "Tuples in Python help ensure data integrity because they are immutable—once a tuple is created, its contents cannot be altered. This immutability means that the values stored inside a tuple remain fixed throughout the program’s execution, preventing accidental or unauthorized modifications\n"
      ],
      "metadata": {
        "id": "sRz2dJWk9iYI"
      }
    },
    {
      "cell_type": "markdown",
      "source": [
        "# **8 What is a hash table, and how does it relate to dictionaries in Python ?**\n",
        "A hash table is a data structure that stores data in the form of key–value pairs and allows very fast access, insertion, and deletion. It works by using a hash function to convert a key (like a string or number) into a numerical value called a hash.\n",
        "- In Python, the built-in dict type is implemented using a hash table under the hood.\n",
        "- Python takes the key \"name\", runs it through a hash function, and uses the result to quickly locate the value \"Amit\" in memory.\n",
        "- Keys must be immutable (like strings, numbers, or tuples) because their hash value must remain constant.\n",
        "\n"
      ],
      "metadata": {
        "id": "GSHwF1JoBnwG"
      }
    },
    {
      "cell_type": "markdown",
      "source": [
        "# **9 Can lists contain different data types in Python ?**\n",
        " lists can contain elements of different data types. This flexibility is one of the reasons lists are so widely used. Unlike arrays in some other programming languages (which often require all elements to be of the same type), Python lists can mix integers, strings, floats, booleans, objects, or even other lists and dictionaries.\n",
        "\n"
      ],
      "metadata": {
        "id": "LZ0mPmFYBny4"
      }
    },
    {
      "cell_type": "markdown",
      "source": [
        "# **10 Explain why strings are immutable in Python ?**\n",
        " Reasons Why Strings Are Immutable\n",
        "\n",
        "1 **Hashing and Dictionary Keys**\n",
        "- Strings are often used as keys in dictionaries and elements in sets.\n",
        "- For hashing to work correctly, the key must always produce the same hash value.\n",
        "- If strings were mutable, their hash could change after being used as a key, breaking dictionary lookups.\n",
        "\n",
        "3 **Thread-Safety and Reliability**\n",
        "- In multi-threaded programs, immutability ensures that one thread cannot change a string while another is reading it.\n",
        "- This makes strings safer to share across different parts of a program.\n",
        "\n",
        "4 **Performance Optimization**\n",
        "- Python can intern (reuse) identical strings in memory.\n",
        "- Since strings never change, the interpreter can safely store only one copy of a string like \"hello\" and reuse it wherever needed, saving memory and speeding up execution.\n",
        "\n",
        "**5 Simplicity and Predictability**\n",
        "- Immutability avoids unexpected side effects.\n",
        "- For example, if two variables point to the same string, changing one would otherwise change the other. With immutability, both remain safe and independent.\n",
        "\n"
      ],
      "metadata": {
        "id": "6YvtsJcTEKQH"
      }
    },
    {
      "cell_type": "markdown",
      "source": [
        "# **11 What advantages do dictionaries offer over lists for certain tasks ?**\n",
        "Advantages of Dictionaries Over Lists\n",
        "- Fast Lookups\n",
        "- Key–Value Mapping\n",
        "- No Need for Indexing\n",
        "- Uniqueness of Keys\n",
        "- Flexible Data Organization\n",
        "- Better for Sparse Data\n",
        "\n"
      ],
      "metadata": {
        "id": "Cx0CNNPiEKSk"
      }
    },
    {
      "cell_type": "markdown",
      "source": [
        "# 12 **Describe** a scenario where using a tuple would be preferable over a list ?\n",
        " tuple is preferable over a list in scenarios where you want to store data that should remain fixed and unchangeable, ensuring that no accidental modifications occur.\n",
        "For example, imagine you are building a program that works with geographical coordinates (latitude and longitude). Once you define the coordinates of a city, they should not change during the program’s execution. If you stored them in a list, someone could accidentally alter one of the values, but with a tuple, the immutability guarantees the integrity of the data\n"
      ],
      "metadata": {
        "id": "SYNVS1J8EKU5"
      }
    },
    {
      "cell_type": "markdown",
      "source": [
        "# **13 How do sets handle duplicate values in Python ?**\n",
        "Sets in Python are collections that store **only unique elements**. When you add elements to a set, any duplicates are automatically discarded. This is a key characteristic of sets and is why they are often used when you need to ensure that a collection of items does not contain any repeated values."
      ],
      "metadata": {
        "id": "N12jkQG_EKXG"
      }
    },
    {
      "cell_type": "markdown",
      "metadata": {
        "id": "6cc14c16"
      },
      "source": [
        "# **14 How does the “in” keyword work differently for lists and dictionaries ?**\n",
        "The `in` keyword in Python is used to test for membership. However, how it works differs between lists and dictionaries:\n",
        "\n",
        "- **For Lists**: The `in` keyword checks if an element exists as a value within the list. It iterates through the list to find a match.\n",
        "\n",
        "- **For Dictionaries**: The `in` keyword checks if a key exists within the dictionary. It does not check for values."
      ]
    },
    {
      "cell_type": "markdown",
      "metadata": {
        "id": "60687780"
      },
      "source": [
        "# **15 Can you modify the elements of a tuple? Explain why or why not ?**\n",
        "No, you cannot modify the elements of a tuple after it has been created.\n",
        "\n",
        "Tuples are **immutable** data types in Python. This means that once a tuple is defined, its contents are fixed and cannot be changed. Any operation that appears to modify a tuple actually creates a new tuple in memory with the desired changes.\n",
        "\n",
        "This immutability is a key characteristic that distinguishes tuples from lists (which are mutable). The immutability of tuples provides advantages such as:\n",
        "\n",
        "- **Data Integrity:** It guarantees that the data stored in a tuple remains constant throughout the program's execution, preventing accidental modification.\n",
        "- **Thread Safety:** In multi-threaded environments, immutable objects like tuples are inherently safe to share between threads without concerns about one thread changing the data while another is reading it.\n",
        "- **Hashability:** Because their contents cannot change, tuples can be used as keys in dictionaries and elements in sets, unlike lists."
      ]
    },
    {
      "cell_type": "markdown",
      "metadata": {
        "id": "50046a2b"
      },
      "source": []
    },
    {
      "cell_type": "markdown",
      "metadata": {
        "id": "7d527427"
      },
      "source": [
        "# **16 What is a nested dictionary, and give an example of its use case ?**\n",
        "\n",
        "A **nested dictionary** is a dictionary where at least one of its values is another dictionary. This structure allows you to represent hierarchical or more complex data relationships.\n",
        "\n",
        "Think of it as a dictionary within a dictionary. The outer dictionary has keys, and the values associated with those keys are not simple data types like strings or numbers, but rather other dictionaries.\n",
        "\n",
        "**Example Use Case: Storing Information about Multiple Students**\n",
        "\n",
        "You could use a nested dictionary to store information about multiple students, where each student is a key in the outer dictionary, and the value for each student is another dictionary containing their details (like age, grade, and subjects)."
      ]
    },
    {
      "cell_type": "markdown",
      "metadata": {
        "id": "b0b4406a"
      },
      "source": [
        "# **17 Describe the time complexity of accessing elements in a dictionary**\n",
        "The time complexity of accessing elements in a Python dictionary is, on average, **O(1)** (constant time).\n",
        "\n",
        "This means that no matter how large the dictionary is, the time it takes to retrieve a value using its key is generally very fast and does not significantly increase with the number of items in the dictionary.\n",
        "\n",
        "This efficiency is due to the underlying implementation of Python dictionaries using hash tables. When you access an element using a key, the hash of the key is calculated, and this hash value is used to quickly locate the corresponding value in memory.\n",
        "\n",
        "However, in the worst-case scenario (though rare), due to hash collisions, the time complexity can degrade to O(n) (linear time), where 'n' is the number of items in the dictionary. This happens when many keys have the same hash value, requiring a linear search within that specific hash \"bucket.\" But for typical use cases and well-distributed data, the average-case O(1) complexity holds true."
      ]
    },
    {
      "cell_type": "markdown",
      "metadata": {
        "id": "e85177c0"
      },
      "source": [
        "# **18 In what situations are lists preferred over dictionaries ?**\n",
        "Lists are preferred over dictionaries in situations where:\n",
        "\n",
        "- **Order matters:** Lists maintain the order in which elements are added, while dictionaries do not guarantee any specific order (in Python versions prior to 3.7). If you need to access elements based on their position or maintain a sequence, lists are the appropriate choice.\n",
        "- **You need to store a collection of items without unique keys:** Lists are suitable for simple collections of items where you don't need to associate each item with a unique key for lookup.\n",
        "- **You need to allow duplicate elements:** Lists can contain duplicate elements, whereas dictionary keys must be unique.\n",
        "- **Accessing elements by index:** If you frequently need to access elements by their numerical index (position), lists provide direct and efficient access using indexing.\n",
        "- **Iterating through a sequence:** Lists are ideal for iterating through a sequence of items in a specific order.\n",
        "\n",
        "Here are some examples of use cases where lists are typically preferred:\n",
        "\n",
        "- Storing a sequence of numbers or strings.\n",
        "- Maintaining a list of tasks to be completed in a specific order.\n",
        "- Storing the results of a process in the order they were generated.\n",
        "- Implementing a stack or a queue."
      ]
    },
    {
      "cell_type": "markdown",
      "source": [],
      "metadata": {
        "id": "nPHIhtm4D-Lm"
      }
    },
    {
      "cell_type": "markdown",
      "metadata": {
        "id": "b30ccaef"
      },
      "source": [
        "# **19 Why are dictionaries considered unordered, and how does that affect data retrieval ?**\n",
        "Historically, in Python versions prior to 3.7, dictionaries were considered **unordered**. This meant that the order in which items were inserted into the dictionary was not preserved, and when you iterated through the dictionary, the order of the key-value pairs could be arbitrary and might not match the insertion order.\n",
        "\n",
        "**How this affected data retrieval (in older Python versions):**\n",
        "\n",
        "- **No reliance on insertion order:** You could not depend on retrieving items in the same order they were added. If you needed ordered data, you would typically use a list of key-value pairs or an `OrderedDict` from the `collections` module.\n",
        "- **Iteration order could vary:** The order of iteration could change between different runs of the same program or even within the same run if the dictionary was modified.\n",
        "\n",
        "**Changes in Python 3.7+:**\n",
        "\n",
        "Starting with Python 3.7, dictionaries are officially **ordered**. The insertion order of keys is preserved, and iterating through a dictionary will yield the items in the order they were added.\n",
        "\n",
        "**How this affects data retrieval (in modern Python):**\n",
        "\n",
        "- **Insertion order is preserved:** You can now rely on the order of items in a dictionary.\n",
        "- **Iteration is predictable:** Iterating through a dictionary will always follow the insertion order.\n",
        "\n",
        "Even though dictionaries are now ordered, it's still important to remember that their primary purpose is fast lookup by key (due to their hash table implementation), not maintaining a specific order like a list. If the order is absolutely critical for your logic and you need to perform operations based on position, a list might still be a more appropriate data structure."
      ]
    },
    {
      "cell_type": "markdown",
      "metadata": {
        "id": "8e3fd43c"
      },
      "source": [
        "# **20 Explain the difference between a list and a dictionary in terms of data retrieval ?**\n",
        "The main difference between lists and dictionaries in terms of data retrieval lies in how you access the elements:\n",
        "\n",
        "- **Lists:** Data retrieval in lists is done by **index**. You access elements based on their position in the sequence, using a numerical index (starting from 0). This is efficient when you know the position of the element you want to retrieve or when you need to iterate through the elements in a specific order.\n",
        "\n",
        "- **Dictionaries:** Data retrieval in dictionaries is done by **key**. You access values by using their associated unique key. This is very efficient for fast lookups when you know the key of the value you want to retrieve, regardless of the size of the dictionary (on average O(1) time complexity). Dictionaries do not rely on the order of elements for access.\n",
        "\n",
        "In summary:\n",
        "- Use lists when the order of elements is important and you access them by their position (index).\n",
        "- Use dictionaries when you need to store data as key-value pairs and access values quickly using their unique keys."
      ]
    },
    {
      "cell_type": "markdown",
      "source": [
        "# **Practical Questions**"
      ],
      "metadata": {
        "id": "5AZCTPgoD-b0"
      }
    },
    {
      "cell_type": "markdown",
      "source": [
        "# **1 Write a code to create a string with your name and print it ?**"
      ],
      "metadata": {
        "id": "P0gtZI8wHZBi"
      }
    },
    {
      "cell_type": "code",
      "metadata": {
        "colab": {
          "base_uri": "https://localhost:8080/"
        },
        "id": "984627fb",
        "outputId": "2cab17cc-6c0a-4278-e40a-8d078070cf17"
      },
      "source": [
        "\n",
        "name = \"Your Name\"  # Replace \"Your Name\" with your actual name\n",
        "print(name)"
      ],
      "execution_count": null,
      "outputs": [
        {
          "output_type": "stream",
          "name": "stdout",
          "text": [
            "Your Name\n"
          ]
        }
      ]
    },
    {
      "cell_type": "markdown",
      "source": [
        "# **2 Write a code to find the length of the string \"Hello World\" ?**"
      ],
      "metadata": {
        "id": "wi-5HFlaD-rY"
      }
    },
    {
      "cell_type": "code",
      "metadata": {
        "colab": {
          "base_uri": "https://localhost:8080/"
        },
        "id": "6fad890b",
        "outputId": "d4d4a2fb-aa86-4b9e-b173-4fb3ace6c6cb"
      },
      "source": [
        "my_string = \"Hello World\"\n",
        "string_length = len(my_string)\n",
        "print(string_length)"
      ],
      "execution_count": null,
      "outputs": [
        {
          "output_type": "stream",
          "name": "stdout",
          "text": [
            "11\n"
          ]
        }
      ]
    },
    {
      "cell_type": "markdown",
      "source": [
        "# **3 Write a code to slice the first 3 characters from the string \"Python Programming ?**"
      ],
      "metadata": {
        "id": "uujBnEXpHquc"
      }
    },
    {
      "cell_type": "code",
      "metadata": {
        "colab": {
          "base_uri": "https://localhost:8080/"
        },
        "id": "bbc7b4d1",
        "outputId": "127758a4-c138-4f30-f833-e1538575695c"
      },
      "source": [
        "my_string = \"Python Programming\"\n",
        "sliced_string = my_string[:3]\n",
        "print(sliced_string)"
      ],
      "execution_count": null,
      "outputs": [
        {
          "output_type": "stream",
          "name": "stdout",
          "text": [
            "Pyt\n"
          ]
        }
      ]
    },
    {
      "cell_type": "markdown",
      "source": [
        "# **4 Write a code to convert the string \"hello\" to uppercase ?**"
      ],
      "metadata": {
        "id": "42l652xwIDJy"
      }
    },
    {
      "cell_type": "code",
      "metadata": {
        "colab": {
          "base_uri": "https://localhost:8080/"
        },
        "id": "16a30fe4",
        "outputId": "ff29250c-1313-4ec3-b685-c993f04d5711"
      },
      "source": [
        "my_string = \"hello\"\n",
        "uppercase_string = my_string.upper()\n",
        "print(uppercase_string)"
      ],
      "execution_count": null,
      "outputs": [
        {
          "output_type": "stream",
          "name": "stdout",
          "text": [
            "HELLO\n"
          ]
        }
      ]
    },
    {
      "cell_type": "markdown",
      "source": [
        "# **5 Write a code to replace the word \"apple\" with \"orange\" in the string \"I like apple\" ?**"
      ],
      "metadata": {
        "id": "8iTotPA7HsPJ"
      }
    },
    {
      "cell_type": "code",
      "metadata": {
        "colab": {
          "base_uri": "https://localhost:8080/"
        },
        "id": "a7dfad3e",
        "outputId": "e882e086-7062-4efb-83e2-f37025fbc090"
      },
      "source": [
        "my_string = \"I like apple\"\n",
        "new_string = my_string.replace(\"apple\", \"orange\")\n",
        "print(new_string)"
      ],
      "execution_count": null,
      "outputs": [
        {
          "output_type": "stream",
          "name": "stdout",
          "text": [
            "I like orange\n"
          ]
        }
      ]
    },
    {
      "cell_type": "markdown",
      "metadata": {
        "id": "84c1f961"
      },
      "source": [
        "# **6 Write a code to create a list with numbers 1 to 5 and print it**"
      ]
    },
    {
      "cell_type": "code",
      "metadata": {
        "colab": {
          "base_uri": "https://localhost:8080/"
        },
        "id": "2b377d0b",
        "outputId": "51c94967-0e86-4ed2-d34d-e45682be73da"
      },
      "source": [
        "my_list = [1, 2, 3, 4, 5]\n",
        "print(my_list)"
      ],
      "execution_count": null,
      "outputs": [
        {
          "output_type": "stream",
          "name": "stdout",
          "text": [
            "[1, 2, 3, 4, 5]\n"
          ]
        }
      ]
    },
    {
      "cell_type": "code",
      "source": [],
      "metadata": {
        "id": "MpYBkeNzIekv"
      },
      "execution_count": null,
      "outputs": []
    },
    {
      "cell_type": "markdown",
      "metadata": {
        "id": "6f45b8f3"
      },
      "source": [
        "# **7 Write a code to append the number 10 to the list [1, 2, 3, 4]**"
      ]
    },
    {
      "cell_type": "code",
      "metadata": {
        "colab": {
          "base_uri": "https://localhost:8080/"
        },
        "id": "58d245d2",
        "outputId": "2c483c59-a0b4-44c8-b210-72cf296f6f9e"
      },
      "source": [
        "my_list = [1, 2, 3, 4]\n",
        "my_list.append(10)\n",
        "print(my_list)"
      ],
      "execution_count": null,
      "outputs": [
        {
          "output_type": "stream",
          "name": "stdout",
          "text": [
            "[1, 2, 3, 4, 10]\n"
          ]
        }
      ]
    },
    {
      "cell_type": "markdown",
      "metadata": {
        "id": "3bf586d2"
      },
      "source": [
        "# **8 Write a code to remove the number 3 from the list [1, 2, 3, 4, 5]**"
      ]
    },
    {
      "cell_type": "code",
      "metadata": {
        "colab": {
          "base_uri": "https://localhost:8080/"
        },
        "id": "fec1116b",
        "outputId": "57a962e2-2463-4aa9-c127-035eac90c1dd"
      },
      "source": [
        "my_list = [1, 2, 3, 4, 5]\n",
        "my_list.remove(3)\n",
        "print(my_list)"
      ],
      "execution_count": null,
      "outputs": [
        {
          "output_type": "stream",
          "name": "stdout",
          "text": [
            "[1, 2, 4, 5]\n"
          ]
        }
      ]
    },
    {
      "cell_type": "markdown",
      "metadata": {
        "id": "71861f4b"
      },
      "source": [
        "# **9 Write a code to access the second element in the list ['a', 'b', 'c', 'd']**"
      ]
    },
    {
      "cell_type": "code",
      "metadata": {
        "colab": {
          "base_uri": "https://localhost:8080/"
        },
        "id": "4d7b66d3",
        "outputId": "8beaab23-47dd-4125-bc64-a80debe2eb2c"
      },
      "source": [
        "my_list = ['a', 'b', 'c', 'd']\n",
        "second_element = my_list[1]  # Index 1 corresponds to the second element\n",
        "print(second_element)"
      ],
      "execution_count": null,
      "outputs": [
        {
          "output_type": "stream",
          "name": "stdout",
          "text": [
            "b\n"
          ]
        }
      ]
    },
    {
      "cell_type": "markdown",
      "metadata": {
        "id": "7b5270db"
      },
      "source": [
        "# **10 Write a code to reverse the list [10, 20, 30, 40, 50]**"
      ]
    },
    {
      "cell_type": "code",
      "metadata": {
        "colab": {
          "base_uri": "https://localhost:8080/"
        },
        "id": "daeb4cc2",
        "outputId": "493a2cd4-d1a4-40f2-bde0-513872cdca42"
      },
      "source": [
        "my_list = [10, 20, 30, 40, 50]\n",
        "my_list.reverse()  # Reverses the list in-place\n",
        "print(my_list)\n",
        "\n",
        "# Alternatively, you can create a new reversed list using slicing:\n",
        "# original_list = [10, 20, 30, 40, 50]\n",
        "# reversed_list = original_list[::-1]\n",
        "# print(reversed_list)"
      ],
      "execution_count": null,
      "outputs": [
        {
          "output_type": "stream",
          "name": "stdout",
          "text": [
            "[50, 40, 30, 20, 10]\n"
          ]
        }
      ]
    },
    {
      "cell_type": "markdown",
      "metadata": {
        "id": "96975c32"
      },
      "source": [
        "# **11 Write a code to create a tuple with the elements 100, 200, 300 and print it**"
      ]
    },
    {
      "cell_type": "code",
      "metadata": {
        "colab": {
          "base_uri": "https://localhost:8080/"
        },
        "id": "23b6884a",
        "outputId": "68f817cf-03ad-49d3-fe12-7323a8aa1d86"
      },
      "source": [
        "my_tuple = (100, 200, 300)\n",
        "print(my_tuple)"
      ],
      "execution_count": null,
      "outputs": [
        {
          "output_type": "stream",
          "name": "stdout",
          "text": [
            "(100, 200, 300)\n"
          ]
        }
      ]
    },
    {
      "cell_type": "markdown",
      "source": [
        "# **12 Write a code to access the second-to-last element of the tuple ('red', 'green', 'blue', 'yellow') ?**"
      ],
      "metadata": {
        "id": "v3JaZr7DKcg_"
      }
    },
    {
      "cell_type": "code",
      "metadata": {
        "colab": {
          "base_uri": "https://localhost:8080/"
        },
        "id": "e7497db2",
        "outputId": "70ca41cc-2bf6-4d60-8665-de6655bb3100"
      },
      "source": [
        "my_tuple = ('red', 'green', 'blue', 'yellow')\n",
        "second_to_last_element = my_tuple[-2]  # -1 is the last element, -2 is the second-to-last\n",
        "print(second_to_last_element)"
      ],
      "execution_count": null,
      "outputs": [
        {
          "output_type": "stream",
          "name": "stdout",
          "text": [
            "blue\n"
          ]
        }
      ]
    },
    {
      "cell_type": "markdown",
      "metadata": {
        "id": "f89f325a"
      },
      "source": [
        "# **13 Write a code to find the minimum number in the tuple (10, 20, 5, 15)**"
      ]
    },
    {
      "cell_type": "code",
      "metadata": {
        "colab": {
          "base_uri": "https://localhost:8080/"
        },
        "id": "28c76524",
        "outputId": "bfde2145-1919-4dcd-c0e0-1b8be1d7f97e"
      },
      "source": [
        "my_tuple = (10, 20, 5, 15)\n",
        "minimum_number = min(my_tuple)\n",
        "print(minimum_number)"
      ],
      "execution_count": null,
      "outputs": [
        {
          "output_type": "stream",
          "name": "stdout",
          "text": [
            "5\n"
          ]
        }
      ]
    },
    {
      "cell_type": "markdown",
      "metadata": {
        "id": "8549af71"
      },
      "source": [
        "#**14 Write a code to find the index of the element \"cat\" in the tuple ('dog', 'cat', 'rabbit')**"
      ]
    },
    {
      "cell_type": "code",
      "metadata": {
        "colab": {
          "base_uri": "https://localhost:8080/"
        },
        "id": "2da41c3d",
        "outputId": "fcdf8afc-cedb-4ea1-d2ec-ad168b521dc2"
      },
      "source": [
        "my_tuple = ('dog', 'cat', 'rabbit')\n",
        "index_of_cat = my_tuple.index(\"cat\")\n",
        "print(index_of_cat)"
      ],
      "execution_count": null,
      "outputs": [
        {
          "output_type": "stream",
          "name": "stdout",
          "text": [
            "1\n"
          ]
        }
      ]
    },
    {
      "cell_type": "markdown",
      "metadata": {
        "id": "87c0817f"
      },
      "source": [
        "#**15 Write a code to create a tuple containing three different fruits and check if \"kiwi\" is in it**"
      ]
    },
    {
      "cell_type": "code",
      "metadata": {
        "colab": {
          "base_uri": "https://localhost:8080/"
        },
        "id": "d65fc292",
        "outputId": "7d31b8f1-a788-4754-e0d2-e43739e17f37"
      },
      "source": [
        "fruits_tuple = ('apple', 'banana', 'orange')\n",
        "check_kiwi = \"kiwi\" in fruits_tuple\n",
        "print(check_kiwi)"
      ],
      "execution_count": null,
      "outputs": [
        {
          "output_type": "stream",
          "name": "stdout",
          "text": [
            "False\n"
          ]
        }
      ]
    },
    {
      "cell_type": "markdown",
      "metadata": {
        "id": "63d3fa53"
      },
      "source": [
        "#**16 Write a code to create a set with the elements 'a', 'b', 'c' and print it**"
      ]
    },
    {
      "cell_type": "code",
      "metadata": {
        "colab": {
          "base_uri": "https://localhost:8080/"
        },
        "id": "58642888",
        "outputId": "ab53c7e4-66b2-46d1-b414-5ee3b4054cf0"
      },
      "source": [
        "my_set = {'a', 'b', 'c'}\n",
        "print(my_set)"
      ],
      "execution_count": null,
      "outputs": [
        {
          "output_type": "stream",
          "name": "stdout",
          "text": [
            "{'b', 'c', 'a'}\n"
          ]
        }
      ]
    },
    {
      "cell_type": "markdown",
      "metadata": {
        "id": "ab62a969"
      },
      "source": [
        "# **17 Write a code to clear all elements from the set {1, 2, 3, 4, 5}**"
      ]
    },
    {
      "cell_type": "code",
      "metadata": {
        "colab": {
          "base_uri": "https://localhost:8080/"
        },
        "id": "7c993037",
        "outputId": "33992114-9bb7-44b9-beba-7e39613021b6"
      },
      "source": [
        "my_set = {1, 2, 3, 4, 5}\n",
        "my_set.clear()\n",
        "print(my_set)"
      ],
      "execution_count": null,
      "outputs": [
        {
          "output_type": "stream",
          "name": "stdout",
          "text": [
            "set()\n"
          ]
        }
      ]
    },
    {
      "cell_type": "markdown",
      "metadata": {
        "id": "756a9d8b"
      },
      "source": [
        "# **18 Write a code to remove the element 4 from the set {1, 2, 3, 4}.**"
      ]
    },
    {
      "cell_type": "code",
      "metadata": {
        "colab": {
          "base_uri": "https://localhost:8080/"
        },
        "id": "c5db1416",
        "outputId": "32bd873c-34ed-4caa-805e-94772b3552a5"
      },
      "source": [
        "my_set = {1, 2, 3, 4}\n",
        "my_set.remove(4)\n",
        "print(my_set)"
      ],
      "execution_count": null,
      "outputs": [
        {
          "output_type": "stream",
          "name": "stdout",
          "text": [
            "{1, 2, 3}\n"
          ]
        }
      ]
    },
    {
      "cell_type": "markdown",
      "metadata": {
        "id": "fd5e6716"
      },
      "source": [
        "# **19 Write a code to find the union of two sets {1, 2, 3} and {3, 4, 5}**"
      ]
    },
    {
      "cell_type": "code",
      "metadata": {
        "colab": {
          "base_uri": "https://localhost:8080/"
        },
        "id": "10ca927f",
        "outputId": "784ab513-72dd-43fa-8635-542989bc67c9"
      },
      "source": [
        "set1 = {1, 2, 3}\n",
        "set2 = {3, 4, 5}\n",
        "union_set = set1 | set2 # Using the union operator\n",
        "# Alternatively, using the union() method:\n",
        "# union_set = set1.union(set2)\n",
        "print(union_set)"
      ],
      "execution_count": null,
      "outputs": [
        {
          "output_type": "stream",
          "name": "stdout",
          "text": [
            "{1, 2, 3, 4, 5}\n"
          ]
        }
      ]
    },
    {
      "cell_type": "markdown",
      "metadata": {
        "id": "06e43311"
      },
      "source": [
        "# **20 Write a code to find the intersection of two sets {1, 2, 3} and {2, 3, 4}**"
      ]
    },
    {
      "cell_type": "code",
      "metadata": {
        "colab": {
          "base_uri": "https://localhost:8080/"
        },
        "id": "18ea96c9",
        "outputId": "b5008177-3da7-46ed-e868-553c81446205"
      },
      "source": [
        "set1 = {1, 2, 3}\n",
        "set2 = {2, 3, 4}\n",
        "intersection_set = set1 & set2 # Using the intersection operator\n",
        "# Alternatively, using the intersection() method:\n",
        "# intersection_set = set1.intersection(set2)\n",
        "print(intersection_set)"
      ],
      "execution_count": null,
      "outputs": [
        {
          "output_type": "stream",
          "name": "stdout",
          "text": [
            "{2, 3}\n"
          ]
        }
      ]
    },
    {
      "cell_type": "markdown",
      "metadata": {
        "id": "68166af6"
      },
      "source": [
        "# **21 Write a code to create a dictionary with the keys \"name\", \"age\", and \"city\", and print it**"
      ]
    },
    {
      "cell_type": "code",
      "metadata": {
        "colab": {
          "base_uri": "https://localhost:8080/"
        },
        "id": "dbfbacd2",
        "outputId": "2177b334-86e4-42e9-ac2e-d7fe11ad5e7d"
      },
      "source": [
        "my_dict = {\n",
        "    \"name\": \"John Doe\",  # You can replace \"John Doe\" with a name\n",
        "    \"age\": 30,         # You can replace 30 with an age\n",
        "    \"city\": \"New York\"   # You can replace \"New York\" with a city\n",
        "}\n",
        "print(my_dict)"
      ],
      "execution_count": null,
      "outputs": [
        {
          "output_type": "stream",
          "name": "stdout",
          "text": [
            "{'name': 'John Doe', 'age': 30, 'city': 'New York'}\n"
          ]
        }
      ]
    },
    {
      "cell_type": "markdown",
      "metadata": {
        "id": "1ca9825a"
      },
      "source": [
        "# **23 Write a code to access the value associated with the key \"name\" in the dictionary {'name': 'Alice', 'age': 30}**"
      ]
    },
    {
      "cell_type": "code",
      "metadata": {
        "colab": {
          "base_uri": "https://localhost:8080/"
        },
        "id": "99f44cd0",
        "outputId": "8f0574ec-0fdc-4b15-d566-bc356eeb9c0b"
      },
      "source": [
        "my_dict = {'name': 'Alice', 'age': 30}\n",
        "name_value = my_dict[\"name\"]\n",
        "print(name_value)"
      ],
      "execution_count": null,
      "outputs": [
        {
          "output_type": "stream",
          "name": "stdout",
          "text": [
            "Alice\n"
          ]
        }
      ]
    },
    {
      "cell_type": "markdown",
      "metadata": {
        "id": "dfd07ec4"
      },
      "source": [
        "# **24 Write a code to remove the key \"age\" from the dictionary {'name': 'Bob', 'age': 22, 'city': 'New York'}**"
      ]
    },
    {
      "cell_type": "code",
      "metadata": {
        "colab": {
          "base_uri": "https://localhost:8080/"
        },
        "id": "82450b86",
        "outputId": "395e2505-ddbb-43af-8b5e-ebe6e16cd759"
      },
      "source": [
        "my_dict = {'name': 'Bob', 'age': 22, 'city': 'New York'}\n",
        "my_dict.pop(\"age\")\n",
        "print(my_dict)"
      ],
      "execution_count": null,
      "outputs": [
        {
          "output_type": "stream",
          "name": "stdout",
          "text": [
            "{'name': 'Bob', 'city': 'New York'}\n"
          ]
        }
      ]
    },
    {
      "cell_type": "markdown",
      "metadata": {
        "id": "aec4c542"
      },
      "source": [
        "# **25 Write a code to check if the key \"city\" exists in the dictionary {'name': 'Alice', 'city': 'Paris'}**"
      ]
    },
    {
      "cell_type": "code",
      "metadata": {
        "colab": {
          "base_uri": "https://localhost:8080/"
        },
        "id": "2e1cfc96",
        "outputId": "abb16ee0-5017-4c4d-97f4-a66554bf59c2"
      },
      "source": [
        "my_dict = {'name': 'Alice', 'city': 'Paris'}\n",
        "check_key = \"city\" in my_dict\n",
        "print(check_key)"
      ],
      "execution_count": null,
      "outputs": [
        {
          "output_type": "stream",
          "name": "stdout",
          "text": [
            "True\n"
          ]
        }
      ]
    },
    {
      "cell_type": "markdown",
      "metadata": {
        "id": "47035e80"
      },
      "source": [
        "# **26 Write a code to create a list, a tuple, and a dictionary, and print them all**"
      ]
    },
    {
      "cell_type": "code",
      "metadata": {
        "colab": {
          "base_uri": "https://localhost:8080/"
        },
        "id": "2ed1f387",
        "outputId": "7bfd74c3-f70e-4df6-8d24-dcb016c4d23a"
      },
      "source": [
        "my_list = [1, 2, 3]\n",
        "my_tuple = (4, 5, 6)\n",
        "my_dict = {\"a\": 1, \"b\": 2}\n",
        "\n",
        "print(\"List:\", my_list)\n",
        "print(\"Tuple:\", my_tuple)\n",
        "print(\"Dictionary:\", my_dict)"
      ],
      "execution_count": null,
      "outputs": [
        {
          "output_type": "stream",
          "name": "stdout",
          "text": [
            "List: [1, 2, 3]\n",
            "Tuple: (4, 5, 6)\n",
            "Dictionary: {'a': 1, 'b': 2}\n"
          ]
        }
      ]
    },
    {
      "cell_type": "markdown",
      "metadata": {
        "id": "9f39ad41"
      },
      "source": [
        "#**27 Write a code to create a list of 5 random numbers between 1 and 100, sort it in ascending order, and print the result.**"
      ]
    },
    {
      "cell_type": "code",
      "metadata": {
        "colab": {
          "base_uri": "https://localhost:8080/"
        },
        "id": "718c8a20",
        "outputId": "42e547ca-9bd8-4399-cbb4-615c8dbce627"
      },
      "source": [
        "import random\n",
        "\n",
        "# Create a list of 5 random numbers between 1 and 100\n",
        "random_numbers = [random.randint(1, 100) for _ in range(5)]\n",
        "\n",
        "# Sort the list in ascending order\n",
        "random_numbers.sort()\n",
        "\n",
        "# Print the sorted list\n",
        "print(random_numbers)"
      ],
      "execution_count": null,
      "outputs": [
        {
          "output_type": "stream",
          "name": "stdout",
          "text": [
            "[49, 50, 64, 64, 65]\n"
          ]
        }
      ]
    },
    {
      "cell_type": "markdown",
      "metadata": {
        "id": "dce87108"
      },
      "source": [
        "#**28 Write a code to create a list with strings and print the element at the third index**"
      ]
    },
    {
      "cell_type": "code",
      "metadata": {
        "colab": {
          "base_uri": "https://localhost:8080/"
        },
        "id": "8b394dee",
        "outputId": "99d17691-7b15-4718-e6b0-43190348d261"
      },
      "source": [
        "my_list = [\"apple\", \"banana\", \"cherry\", \"date\", \"elderberry\"]\n",
        "third_element = my_list[2]  # Index 2 is the third element\n",
        "print(third_element)"
      ],
      "execution_count": null,
      "outputs": [
        {
          "output_type": "stream",
          "name": "stdout",
          "text": [
            "cherry\n"
          ]
        }
      ]
    },
    {
      "cell_type": "markdown",
      "metadata": {
        "id": "1db07f78"
      },
      "source": [
        "# **29 Write a code to combine two dictionaries into one and print the result**"
      ]
    },
    {
      "cell_type": "code",
      "metadata": {
        "colab": {
          "base_uri": "https://localhost:8080/"
        },
        "id": "06327d1c",
        "outputId": "c45d45d3-f46e-4e17-a66e-68d0ba48d5ff"
      },
      "source": [
        "dict1 = {\"a\": 1, \"b\": 2}\n",
        "dict2 = {\"c\": 3, \"d\": 4}\n",
        "\n",
        "# Method 1: Using the update() method (modifies dict1)\n",
        "# dict1.update(dict2)\n",
        "# combined_dict = dict1\n",
        "\n",
        "# Method 2: Using dictionary unpacking (creates a new dictionary)\n",
        "combined_dict = {**dict1, **dict2}\n",
        "\n",
        "print(combined_dict)"
      ],
      "execution_count": null,
      "outputs": [
        {
          "output_type": "stream",
          "name": "stdout",
          "text": [
            "{'a': 1, 'b': 2, 'c': 3, 'd': 4}\n"
          ]
        }
      ]
    },
    {
      "cell_type": "markdown",
      "metadata": {
        "id": "2b8e7d92"
      },
      "source": [
        "#**30 Write a code to convert a list of strings into a set**"
      ]
    },
    {
      "cell_type": "code",
      "metadata": {
        "colab": {
          "base_uri": "https://localhost:8080/"
        },
        "id": "394c2cc7",
        "outputId": "9da987ae-9c2c-4611-a08b-5799edf874be"
      },
      "source": [
        "my_list = [\"apple\", \"banana\", \"cherry\", \"apple\", \"date\"]\n",
        "my_set = set(my_list)\n",
        "print(my_set)"
      ],
      "execution_count": null,
      "outputs": [
        {
          "output_type": "stream",
          "name": "stdout",
          "text": [
            "{'banana', 'apple', 'date', 'cherry'}\n"
          ]
        }
      ]
    }
  ]
}